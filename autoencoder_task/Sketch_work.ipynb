{
 "cells": [
  {
   "cell_type": "code",
   "execution_count": 1,
   "metadata": {},
   "outputs": [],
   "source": [
    "import torch\n",
    "import numpy as np\n",
    "import torch.utils.data\n",
    "from torch import nn, optim\n",
    "from torch.autograd import Variable\n",
    "from torchvision import datasets, transforms\n",
    "from torchvision.utils import save_image\n",
    "import os\n",
    "from task import AutoEncoder, train, test_work\n",
    "from naturalityscore import naturality_score"
   ]
  },
  {
   "cell_type": "code",
   "execution_count": 2,
   "metadata": {},
   "outputs": [],
   "source": [
    "get_loader = lambda train: torch.utils.data.DataLoader(\n",
    "    datasets.MNIST('./data', train=train, download=True, transform=transforms.ToTensor()),\n",
    "    batch_size=50, shuffle=True)\n",
    "train_loader, test_loader = get_loader(True), get_loader(False)"
   ]
  },
  {
   "cell_type": "code",
   "execution_count": 11,
   "metadata": {},
   "outputs": [],
   "source": [
    "model = AutoEncoder(inp_size=784, hid_size=20)"
   ]
  },
  {
   "cell_type": "code",
   "execution_count": 12,
   "metadata": {},
   "outputs": [],
   "source": [
    "model = model.cuda(0)"
   ]
  },
  {
   "cell_type": "code",
   "execution_count": 13,
   "metadata": {},
   "outputs": [],
   "source": [
    "optimizer = optim.Adam(model.parameters(), lr=1e-3)"
   ]
  },
  {
   "cell_type": "code",
   "execution_count": 14,
   "metadata": {},
   "outputs": [
    {
     "name": "stdout",
     "output_type": "stream",
     "text": [
      "=> Epoch: 0 Average loss: 0.003\n",
      "=> Test set loss: 0.003\n"
     ]
    }
   ],
   "source": [
    "for epoch in range(1):\n",
    "    model.train()\n",
    "    train_loss, test_loss = 0, 0\n",
    "    for data, _ in train_loader:\n",
    "        data = Variable(data.cuda(0)).view(-1, 784)\n",
    "        x_rec = model(data)\n",
    "\n",
    "        loss = model.loss_function(x_rec, data)\n",
    "\n",
    "        optimizer.zero_grad()\n",
    "        loss.backward()\n",
    "        optimizer.step()\n",
    "        train_loss += loss.data[0]\n",
    "    print('=> Epoch: %s Average loss: %.3f' % (epoch, train_loss / len(train_loader.dataset)))\n",
    "\n",
    "    model.eval()\n",
    "    for data, _ in test_loader:\n",
    "        data = Variable(data.cuda(0), volatile=True).view(-1, 784)\n",
    "        x_rec = model(data)\n",
    "        test_loss += model.loss_function(x_rec, data).data[0]\n",
    "\n",
    "    test_loss /= len(test_loader.dataset)\n",
    "    print('=> Test set loss: %.3f' % test_loss)\n",
    "\n",
    "    n = min(data.size(0), 8)\n",
    "    comparison = torch.cat([data.view(-1, 1, 28, 28)[:n], x_rec.view(-1, 1, 28, 28)[:n]])\n",
    "    if not os.path.exists('./pics'): os.makedirs('./pics')\n",
    "    save_image(comparison.data.cpu(), 'pics/reconstruction_' + str(epoch) + '.png', nrow=n)"
   ]
  },
  {
   "cell_type": "code",
   "execution_count": 17,
   "metadata": {},
   "outputs": [],
   "source": [
    "weights_path = '/home/jevjev/Dropbox/Projects/DeepBayesApplication/autoencoder_task/CapsuleNet/result/epoch17.pkl'\n",
    "mean, std = naturality_score(test_loader, batch_size=50, gpu_id=0, weights_path=weights_path, model=model)"
   ]
  },
  {
   "cell_type": "code",
   "execution_count": 8,
   "metadata": {},
   "outputs": [
    {
     "name": "stdout",
     "output_type": "stream",
     "text": [
      "0.799666488291 0.305373423257\n"
     ]
    }
   ],
   "source": [
    "print(mean, std)"
   ]
  },
  {
   "cell_type": "code",
   "execution_count": 10,
   "metadata": {},
   "outputs": [
    {
     "name": "stdout",
     "output_type": "stream",
     "text": [
      "1.21560689718 0.205535922691\n"
     ]
    }
   ],
   "source": [
    "print(mean, std)"
   ]
  },
  {
   "cell_type": "code",
   "execution_count": 18,
   "metadata": {},
   "outputs": [
    {
     "name": "stdout",
     "output_type": "stream",
     "text": [
      "0.872227445882 0.29434422142\n"
     ]
    }
   ],
   "source": [
    "print(mean, std)"
   ]
  },
  {
   "cell_type": "code",
   "execution_count": null,
   "metadata": {},
   "outputs": [],
   "source": []
  }
 ],
 "metadata": {
  "kernelspec": {
   "display_name": "Python 3",
   "language": "python",
   "name": "python3"
  },
  "language_info": {
   "codemirror_mode": {
    "name": "ipython",
    "version": 3
   },
   "file_extension": ".py",
   "mimetype": "text/x-python",
   "name": "python",
   "nbconvert_exporter": "python",
   "pygments_lexer": "ipython3",
   "version": "3.5.5"
  }
 },
 "nbformat": 4,
 "nbformat_minor": 2
}
